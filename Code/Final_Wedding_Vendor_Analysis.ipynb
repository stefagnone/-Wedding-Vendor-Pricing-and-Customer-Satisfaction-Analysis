{
 "cells": [
  {
   "cell_type": "markdown",
   "id": "f4c3f664",
   "metadata": {},
   "source": [
    "<hr style=\"height:.9px;border:none;color:#333;background-color:#333;\" />\n",
    "\n",
    "<h1>Does Wedding Vendor Pricing Positively Affect Customer Satisfaction?</h1><br>\n",
    "<em>DAT-7470 Wedding Vendors Analysis</em><br>\n",
    "\n",
    "Written by Stefano Compagnone <br>\n",
    "Hult International Business School <br>\n",
    "<a href=\"https://github.com/stefagnone\">https://github.com/stefagnone</a>\n",
    "<hr style=\"height:.9px;border:none;color:#333;background-color:#333;\" />\n",
    "<h2>Problem Introduction</h2><br>\n",
    "Imagine the anticipation of your customer: The wedding day, a mosaic of dreams and meticulous planning. Amidst this excitement, a key question arises: does investing in more expensive wedding services guarantee a more satisfying experience? This analysis examines the intricate dance between wedding service provider prices and customer satisfaction.\n",
    "\n",
    "Here, \"price\" is not just a number but a spectrum - from inexpensive to affordable to moderate to luxurious - framed by Parducci's (1965) range-frequency theory. This theory states that consumers do not evaluate prices on a linear scale but through comparisons within categorized price ranges.\n",
    "\n",
    "Meanwhile, \"customer satisfaction\" goes beyond mere approval ratings and is captured by a five-star rating system that reflects customer sentiment - a concept reiterated by Bigne et al. (2023).\n",
    "\n",
    "By navigating these dimensions, this study aims to determine whether a higher price category for wedding services is a harbinger of greater happiness or whether satisfaction flourishes regardless of cost."
   ]
  },
  {
   "cell_type": "markdown",
   "id": "649f0c19",
   "metadata": {},
   "source": [
    "<h2>Challenging Conventional Wisdom: Price and Satisfaction Not Correlated</h2><br>\n",
    "No statistically significant correlation exists between the price categories of affordable (-0.04), moderate (0.03), and luxury (-0.01) vendors and their associated customer satisfaction rating, as p-values are all above 40%. This finding challenges the conventional assumption that higher pricing, often associated with perceived higher quality, correlates with increased customer satisfaction.\n",
    "\n",
    "This outcome suggests that higher pricing does not inherently lead to enhanced customer satisfaction, potentially due to the elevated expectations that accompany higher prices. Hence, businesses might reconsider strategies emphasizing premium pricing to enhance customer satisfaction. Instead, the focus should shift towards understanding the specific attributes and factors that drive customer satisfaction within each pricing category, thereby aligning business strategies more effectively with customer needs and preferences."
   ]
  },
  {
   "cell_type": "markdown",
   "id": "174b5dac",
   "metadata": {},
   "source": [
    "<h2>The Disproportionate Influence of Top Vendors</h2><br>\n",
    "The top 4.52% of all vendors with the most reviews (20 vendors) hold 37.56% of the total sample reviews, indicating that only a few providers receive a disproportionately high number of ratings, which suggests a concentration of popularity or satisfaction among a small group of offerings. To capitalize on this insight, companies should focus on understanding the unique characteristics of these providers. Analyzing what differentiates these providers can provide important clues for improving services or products. For example, companies could investigate whether these popular offerings share common characteristics such as superior quality, exceptional service, or customer retention strategies.\n",
    "\n",
    "In fact, a study shows that the optimal star rating for businesses generating the most amount of revenue is between 3.5 and 4.5 stars (Womply, n.d.). No wonder those top 20 are within this category with an average rating of 4.24, which is substantially below average."
   ]
  },
  {
   "cell_type": "markdown",
   "id": "6a58b4de",
   "metadata": {},
   "source": [
    "<h2>Personalization Over Volume for Better Ratings</h2><br>\n",
    "A strategic reorientation is imperative for optimizing customer review solicitation, given the identified negative correlation of -0.42 between customer ratings and the volume of reviews.\n",
    "\n",
    "Integrating insights from an eye-tracking study (Chen et al., 2022) focused on online reviews with strategies for enhancing customer review collection elucidates that prioritizing high-quality, predominantly positive reviews is more efficacious than merely amassing a substantial quantity of reviews. Notably, the data indicates that women exhibit a heightened sensitivity to negative comments, substantially impacting their purchasing decisions.\n",
    "\n",
    "This revelation underscores the criticality of soliciting reviews, particularly from customers with exceedingly positive experiences, as such reviews are more likely to instill confidence in prospective buyers. Furthermore, customizing feedback requests to acknowledge each customer's experience can yield more authentic and favorable reviews. A nuanced strategy that emphasizes the quality of customer reviews over their quantity can profoundly influence customer behavior and augment overall customer satisfaction."
   ]
  },
  {
   "cell_type": "markdown",
   "id": "a060d6ea",
   "metadata": {},
   "source": [
    "<h2>Technical Analysis</h2><br>\n",
    "In the subsequent section, the technical analysis that forms the basis for the above conclusions is presented."
   ]
  },
  {
   "cell_type": "code",
   "execution_count": 1,
   "id": "42d1762a",
   "metadata": {},
   "outputs": [],
   "source": [
    "# importing relevant packages\n",
    "import pandas            as pd  # data science \n",
    "import matplotlib.pyplot as plt # data visualization\n",
    "import seaborn           as sns # enhanced data visualization\n",
    "from scipy import stats         # to run statistical tests"
   ]
  },
  {
   "cell_type": "code",
   "execution_count": 2,
   "id": "b51a4252",
   "metadata": {
    "scrolled": false
   },
   "outputs": [],
   "source": [
    "# specifying the dataset (the file is in the same folder as the script)\n",
    "file = \"weddings.xlsx\"\n",
    "\n",
    "# specifying data types with a dictionary\n",
    "data_types = {\"department\":                str,\n",
    "              \"reviews\":                   int,\n",
    "              \"avg_stars\":               float,\n",
    "              \"affordability\":             str,\n",
    "              \"price_cat\":                 int,\n",
    "              # \"inexpensive\":            bool, omitted to handle collinearity\n",
    "              \"affordable\":               bool,\n",
    "              \"moderate\":                 bool,\n",
    "              \"luxury\":                   bool,\n",
    "               }\n",
    "\n",
    "# Reading in dataset\n",
    "df = pd.read_excel(io         = file      ,       \n",
    "                   sheet_name = \"weddings\", \n",
    "                   header     = 0         ,          \n",
    "                   dtype      = data_types)   # applying data types"
   ]
  },
  {
   "cell_type": "code",
   "execution_count": 3,
   "id": "d3e6dde1",
   "metadata": {},
   "outputs": [
    {
     "data": {
      "text/plain": [
       "department\n",
       "invitations    26\n",
       "jewelry        30\n",
       "rentals        30\n",
       "cake           31\n",
       "flowers        32\n",
       "Name: count, dtype: int64"
      ]
     },
     "execution_count": 3,
     "metadata": {},
     "output_type": "execute_result"
    }
   ],
   "source": [
    "# Checking observations by department to assess representation (n>= 30)\n",
    "df.loc[:,\"department\"].value_counts(ascending = True).head(n = 5)"
   ]
  },
  {
   "cell_type": "markdown",
   "id": "bd2130c1",
   "metadata": {},
   "source": [
    "The invitations department has collected fewer than 30 observations. Subsequently, as the condition n >= 30 is not fulfilled in all cases, the central limit theorem cannot be applied and a department level analysis is not possible. No null values are apparent in price category, reviews, and star rating."
   ]
  },
  {
   "cell_type": "code",
   "execution_count": 4,
   "id": "e92497f7",
   "metadata": {
    "scrolled": false
   },
   "outputs": [
    {
     "name": "stdout",
     "output_type": "stream",
     "text": [
      "<class 'pandas.core.frame.DataFrame'>\n",
      "RangeIndex: 442 entries, 0 to 441\n",
      "Data columns (total 8 columns):\n",
      " #   Column         Non-Null Count  Dtype  \n",
      "---  ------         --------------  -----  \n",
      " 0   department     442 non-null    object \n",
      " 1   reviews        442 non-null    int64  \n",
      " 2   avg_stars      442 non-null    float64\n",
      " 3   affordability  442 non-null    object \n",
      " 4   price_cat      442 non-null    int64  \n",
      " 5   affordable     442 non-null    bool   \n",
      " 6   moderate       442 non-null    bool   \n",
      " 7   luxury         442 non-null    bool   \n",
      "dtypes: bool(3), float64(1), int64(2), object(2)\n",
      "memory usage: 18.7+ KB\n"
     ]
    }
   ],
   "source": [
    "# Getting a quick grasp of the data used for analysis\n",
    "df.info(verbose = True)"
   ]
  },
  {
   "cell_type": "code",
   "execution_count": 5,
   "id": "678d7318",
   "metadata": {},
   "outputs": [
    {
     "data": {
      "text/html": [
       "<div>\n",
       "<style scoped>\n",
       "    .dataframe tbody tr th:only-of-type {\n",
       "        vertical-align: middle;\n",
       "    }\n",
       "\n",
       "    .dataframe tbody tr th {\n",
       "        vertical-align: top;\n",
       "    }\n",
       "\n",
       "    .dataframe thead th {\n",
       "        text-align: right;\n",
       "    }\n",
       "</style>\n",
       "<table border=\"1\" class=\"dataframe\">\n",
       "  <thead>\n",
       "    <tr style=\"text-align: right;\">\n",
       "      <th></th>\n",
       "      <th>reviews</th>\n",
       "      <th>avg_stars</th>\n",
       "      <th>price_cat</th>\n",
       "    </tr>\n",
       "  </thead>\n",
       "  <tbody>\n",
       "    <tr>\n",
       "      <th>mean</th>\n",
       "      <td>149.65</td>\n",
       "      <td>4.69</td>\n",
       "      <td>2.26</td>\n",
       "    </tr>\n",
       "    <tr>\n",
       "      <th>50%</th>\n",
       "      <td>60.00</td>\n",
       "      <td>4.90</td>\n",
       "      <td>2.00</td>\n",
       "    </tr>\n",
       "    <tr>\n",
       "      <th>min</th>\n",
       "      <td>1.00</td>\n",
       "      <td>1.90</td>\n",
       "      <td>1.00</td>\n",
       "    </tr>\n",
       "    <tr>\n",
       "      <th>max</th>\n",
       "      <td>4108.00</td>\n",
       "      <td>5.00</td>\n",
       "      <td>4.00</td>\n",
       "    </tr>\n",
       "  </tbody>\n",
       "</table>\n",
       "</div>"
      ],
      "text/plain": [
       "      reviews  avg_stars  price_cat\n",
       "mean   149.65       4.69       2.26\n",
       "50%     60.00       4.90       2.00\n",
       "min      1.00       1.90       1.00\n",
       "max   4108.00       5.00       4.00"
      ]
     },
     "execution_count": 5,
     "metadata": {},
     "output_type": "execute_result"
    }
   ],
   "source": [
    "# Collection of summary statistics\n",
    "desc_stats_numbers = df.describe(include = \"number\").round(decimals = 2)\n",
    "\n",
    "# filtering relevant statistics\n",
    "desc_stats_numbers.loc[(\"mean\",\"50%\",\"min\",\"max\"),\n",
    "                       (\"reviews\",\"avg_stars\",\"price_cat\")]"
   ]
  },
  {
   "cell_type": "markdown",
   "id": "3d073d62",
   "metadata": {},
   "source": [
    "As can be seen from the descriptive statistics above, the median number of reviews falls at 60, implying a right skewed distribution.\n",
    "\n",
    "Further, average customer satisfaction across all aspects of wedding services is very high, with an average star rating of 4.69, which makes sense as reviews are naturally very positive. On the other hand, the median price category of 2 implies that most wedding services available are affordable. For a more detailed look, see the two tables below."
   ]
  },
  {
   "cell_type": "code",
   "execution_count": 6,
   "id": "cd4b6eeb",
   "metadata": {},
   "outputs": [
    {
     "data": {
      "text/html": [
       "<div>\n",
       "<style scoped>\n",
       "    .dataframe tbody tr th:only-of-type {\n",
       "        vertical-align: middle;\n",
       "    }\n",
       "\n",
       "    .dataframe tbody tr th {\n",
       "        vertical-align: top;\n",
       "    }\n",
       "\n",
       "    .dataframe thead th {\n",
       "        text-align: right;\n",
       "    }\n",
       "</style>\n",
       "<table border=\"1\" class=\"dataframe\">\n",
       "  <thead>\n",
       "    <tr style=\"text-align: right;\">\n",
       "      <th></th>\n",
       "      <th>affordability</th>\n",
       "      <th>affordable</th>\n",
       "      <th>moderate</th>\n",
       "      <th>luxury</th>\n",
       "    </tr>\n",
       "  </thead>\n",
       "  <tbody>\n",
       "    <tr>\n",
       "      <th>unique</th>\n",
       "      <td>4</td>\n",
       "      <td>2</td>\n",
       "      <td>2</td>\n",
       "      <td>2</td>\n",
       "    </tr>\n",
       "    <tr>\n",
       "      <th>top</th>\n",
       "      <td>affordable</td>\n",
       "      <td>False</td>\n",
       "      <td>False</td>\n",
       "      <td>False</td>\n",
       "    </tr>\n",
       "    <tr>\n",
       "      <th>freq</th>\n",
       "      <td>216</td>\n",
       "      <td>226</td>\n",
       "      <td>317</td>\n",
       "      <td>412</td>\n",
       "    </tr>\n",
       "  </tbody>\n",
       "</table>\n",
       "</div>"
      ],
      "text/plain": [
       "       affordability affordable moderate luxury\n",
       "unique             4          2        2      2\n",
       "top       affordable      False    False  False\n",
       "freq             216        226      317    412"
      ]
     },
     "execution_count": 6,
     "metadata": {},
     "output_type": "execute_result"
    }
   ],
   "source": [
    "# Collection of summary statistics\n",
    "desc_stats_text = df.describe(exclude = \"number\")\n",
    "\n",
    "# filtering relevant statistics\n",
    "desc_stats_text.loc[(\"unique\",\"top\",\"freq\"),\n",
    "                    (\"affordability\",\n",
    "                     # \"inexpensive,\" is omitted to handle collinearity\n",
    "                     \"affordable\",\"moderate\",\"luxury\")]"
   ]
  },
  {
   "cell_type": "code",
   "execution_count": 7,
   "id": "0580ae17",
   "metadata": {},
   "outputs": [
    {
     "data": {
      "text/plain": [
       "affordability\n",
       "inexpensive    0.16\n",
       "affordable     0.49\n",
       "moderate       0.28\n",
       "luxury         0.07\n",
       "Name: proportion, dtype: float64"
      ]
     },
     "execution_count": 7,
     "metadata": {},
     "output_type": "execute_result"
    }
   ],
   "source": [
    "# Identifying the frequencies of affordability categories\n",
    "df[\"affordability\"].value_counts(normalize = True,\n",
    "                                 sort      = False,\n",
    "                                 dropna    = False).round(decimals = 2)"
   ]
  },
  {
   "cell_type": "markdown",
   "id": "a0f10c5a",
   "metadata": {},
   "source": [
    "In the subsequent analysis, inexpensive vendors represent 16% of the sample population, which is considered the base price level. From this standpoint, a study of affordable, moderate, and luxury vendors follows."
   ]
  },
  {
   "cell_type": "code",
   "execution_count": 8,
   "id": "56b80106",
   "metadata": {},
   "outputs": [
    {
     "data": {
      "image/png": "[encoded data removed]",
      "text/plain": [
       "<Figure size 1200x200 with 1 Axes>"
      ]
     },
     "metadata": {},
     "output_type": "display_data"
    },
    {
     "name": "stdout",
     "output_type": "stream",
     "text": [
      "\n",
      "The proportion table for reviews looks as follows:\n",
      "\n",
      "reviews\n",
      "(-3.108, 411.7]     0.93\n",
      "(411.7, 822.4]      0.04\n",
      "(822.4, 1233.1]     0.01\n",
      "(1233.1, 1643.8]    0.00\n",
      "(1643.8, 2054.5]    0.00\n",
      "(2054.5, 2465.2]    0.00\n",
      "(2465.2, 2875.9]    0.00\n",
      "(2875.9, 3286.6]    0.00\n",
      "(3286.6, 3697.3]    0.00\n",
      "(3697.3, 4108.0]    0.00\n",
      "Name: proportion, dtype: float64\n",
      "\n"
     ]
    }
   ],
   "source": [
    "# specifying plot size\n",
    "fig, ax = plt.subplots(figsize = [12, 2])\n",
    "\n",
    "# plotting boxplot\n",
    "sns.boxplot(data = df,\n",
    "            x    = \"reviews\",\n",
    "            )\n",
    "\n",
    "# adjusting labels and plotting the visualization\n",
    "plt.title(label = \"Number of Reviews per Vendor\")\n",
    "plt.xlabel(xlabel = None)\n",
    "plt.tight_layout()\n",
    "plt.show()\n",
    "\n",
    "# Identifying the frequencies of reviews\n",
    "print(\n",
    "f\"\"\"\n",
    "The proportion table for reviews looks as follows:\n",
    "\n",
    "{df[\"reviews\"].value_counts(normalize = True,\n",
    "                           sort      = False,\n",
    "                           bins      = 10,\n",
    "                           dropna    = False).round(decimals = 2)}\n",
    "\"\"\")"
   ]
  },
  {
   "cell_type": "markdown",
   "id": "feda19cb",
   "metadata": {},
   "source": [
    "The distribution of reviews is skewed to the right, as evident in the boxplot and frequency table above, implying that a few providers receive exponentially many reviews, as calculated below."
   ]
  },
  {
   "cell_type": "code",
   "execution_count": 9,
   "id": "f02ad6b4",
   "metadata": {},
   "outputs": [
    {
     "name": "stdout",
     "output_type": "stream",
     "text": [
      "Twenty vendors, i.e., the top 4.52% of all vendors with the most reviews, hold \n",
      "37.56% of the total sample reviews with an average star rating of 4.24.\n"
     ]
    }
   ],
   "source": [
    "# Calculating the percentage share of the top 20 vendors by reviews\n",
    "top_20_in_percent = 20/df.reviews.count()\n",
    "\n",
    "# Calculating the percentage hold or reviews of the top 20 vendors\n",
    "top_holds = df.reviews.sort_values(ascending = False).head(n = 20).sum() \\\n",
    "         /df.reviews.sum()\n",
    "\n",
    "# Calculating the minimum reviews of the top 20 vendors\n",
    "top_min = df.reviews.sort_values(ascending = False).head(n = 20).min()\n",
    "\n",
    "# Calculating the avg_stars of the top 20 vendors\n",
    "top_20_avg_stars = round( number = (df.loc[df[\"reviews\"] >= top_min,\n",
    "                                           \"avg_stars\"].mean()),\n",
    "                          ndigits = 2)\n",
    "\n",
    "# printing the results\n",
    "print(f\"Twenty vendors, i.e., the top \\\n",
    "{round(number = top_20_in_percent*100, ndigits = 2)}% of all vendors \\\n",
    "with the most reviews, hold \\n{round(number = top_holds*100, ndigits = 2)}% \\\n",
    "of the total sample reviews with an average star rating of \\\n",
    "{top_20_avg_stars}.\")"
   ]
  },
  {
   "cell_type": "code",
   "execution_count": 10,
   "id": "fde9ef73",
   "metadata": {
    "scrolled": false
   },
   "outputs": [
    {
     "name": "stdout",
     "output_type": "stream",
     "text": [
      "\n",
      "The proportion table for customer satisfaction, i.e., avg. stars, looks as follows:\n",
      "\n",
      "avg_stars\n",
      "(4.69, 5.0]                   0.72\n",
      "(4.38, 4.69]                  0.12\n",
      "(4.07, 4.38]                  0.08\n",
      "(3.76, 4.07]                  0.03\n",
      "(3.14, 3.45]                  0.02\n",
      "(2.21, 2.52]                  0.01\n",
      "(3.45, 3.76]                  0.01\n",
      "(2.52, 2.83]                  0.01\n",
      "(2.83, 3.14]                  0.00\n",
      "(1.8960000000000001, 2.21]    0.00\n",
      "Name: proportion, dtype: float64\n",
      "\n"
     ]
    },
    {
     "data": {
      "image/png": "[encoded data removed]",
      "text/plain": [
       "<Figure size 1200x300 with 1 Axes>"
      ]
     },
     "metadata": {},
     "output_type": "display_data"
    }
   ],
   "source": [
    "# Identifying the frequencies of avg_stars\n",
    "print(\n",
    "f\"\"\"\n",
    "The proportion table for customer satisfaction, i.e., avg. stars, looks as follows:\n",
    "\n",
    "{df[\"avg_stars\"].value_counts(normalize = True,\n",
    "                            sort      = True,\n",
    "                            bins      = 10,\n",
    "                            dropna    = False).round(decimals = 2)}\n",
    "\"\"\")\n",
    "\n",
    "# specifying plot size\n",
    "fig, ax = plt.subplots(figsize = [12, 3])\n",
    "\n",
    "# histogram for avg_stars\n",
    "sns.histplot(data  = df,\n",
    "             x     = \"avg_stars\",\n",
    "             bins  = \"fd\",  # freedman-diaconis bins\n",
    "             kde   = False, # drawing theoretical distribution\n",
    "             color = 'black')\n",
    "\n",
    "\n",
    "# adjusting labels and plotting the visualization\n",
    "plt.title(label = \"Freedman-Diaconis Frequencies of Customer Satisfaction\")\n",
    "plt.xlabel(xlabel = 'Average Rating')\n",
    "plt.ylabel(ylabel = 'Frequency')\n",
    "plt.tight_layout()\n",
    "plt.show()"
   ]
  },
  {
   "cell_type": "markdown",
   "id": "4cb2d19d",
   "metadata": {},
   "source": [
    "On the other hand, when looking into the histogram and frequency table of average vendor stars above, it is evident that most vendors get ratings beyond the 4.9 threshold, which implies that price may already not significantly affect customer satisfaction, which will be analyzed in the following."
   ]
  },
  {
   "cell_type": "code",
   "execution_count": 11,
   "id": "fa7ad698",
   "metadata": {},
   "outputs": [
    {
     "data": {
      "text/html": [
       "<div>\n",
       "<style scoped>\n",
       "    .dataframe tbody tr th:only-of-type {\n",
       "        vertical-align: middle;\n",
       "    }\n",
       "\n",
       "    .dataframe tbody tr th {\n",
       "        vertical-align: top;\n",
       "    }\n",
       "\n",
       "    .dataframe thead th {\n",
       "        text-align: right;\n",
       "    }\n",
       "</style>\n",
       "<table border=\"1\" class=\"dataframe\">\n",
       "  <thead>\n",
       "    <tr style=\"text-align: right;\">\n",
       "      <th></th>\n",
       "      <th>r</th>\n",
       "      <th>p</th>\n",
       "    </tr>\n",
       "  </thead>\n",
       "  <tbody>\n",
       "    <tr>\n",
       "      <th>reviews</th>\n",
       "      <td>-0.415</td>\n",
       "      <td>0.000</td>\n",
       "    </tr>\n",
       "    <tr>\n",
       "      <th>price_cat</th>\n",
       "      <td>0.003</td>\n",
       "      <td>0.942</td>\n",
       "    </tr>\n",
       "    <tr>\n",
       "      <th>affordable</th>\n",
       "      <td>-0.039</td>\n",
       "      <td>0.409</td>\n",
       "    </tr>\n",
       "    <tr>\n",
       "      <th>moderate</th>\n",
       "      <td>0.027</td>\n",
       "      <td>0.574</td>\n",
       "    </tr>\n",
       "    <tr>\n",
       "      <th>luxury</th>\n",
       "      <td>-0.006</td>\n",
       "      <td>0.906</td>\n",
       "    </tr>\n",
       "  </tbody>\n",
       "</table>\n",
       "</div>"
      ],
      "text/plain": [
       "                r      p\n",
       "reviews    -0.415  0.000\n",
       "price_cat   0.003  0.942\n",
       "affordable -0.039  0.409\n",
       "moderate    0.027  0.574\n",
       "luxury     -0.006  0.906"
      ]
     },
     "execution_count": 11,
     "metadata": {},
     "output_type": "execute_result"
    }
   ],
   "source": [
    "# Creating correlation matrix\n",
    "corr_avg_stars = pd.DataFrame(columns=[\"r\",\"p\"]) # correlation and p-value\n",
    "\n",
    "# Correlating numerical data with avg_stars\n",
    "for col in df:\n",
    "    # assessing r and p for each column that is numeric\n",
    "    if pd.api.types.is_numeric_dtype(df[col]):\n",
    "        # spearman for categorical data\n",
    "        r, p = stats.spearmanr(df.avg_stars, df[col])\n",
    "        corr_avg_stars.loc[col] = [round(number = r, ndigits = 3),\n",
    "                                   round(number = p, ndigits = 3)]\n",
    "\n",
    "# Giving back the correlations and p-values for attributes of interest\n",
    "corr_avg_stars.loc[(\"reviews\",\"price_cat\",\"affordable\",\"moderate\",\"luxury\"),:]"
   ]
  },
  {
   "cell_type": "markdown",
   "id": "a962a9a5",
   "metadata": {},
   "source": [
    "As illustrated in the table above, the data unequivocally indicates that no pricing category exhibits a statistically significant positive relationship with average customer satisfaction ratings compared to inexpensive vendors with p-values above 0.4.\n",
    "\n",
    "\n",
    "What can be observed, however, is the fact that customer ratings are significantly negatively correlated with the number of reviews (-0.42). The following scatterplot takes a closer look at this."
   ]
  },
  {
   "cell_type": "code",
   "execution_count": 12,
   "id": "9b73a148",
   "metadata": {},
   "outputs": [
    {
     "name": "stderr",
     "output_type": "stream",
     "text": [
      "/Users/Stefano Compagnone/anaconda3/lib/python3.11/site-packages/seaborn/regression.py:582: UserWarning: legend_out is deprecated from the `lmplot` function signature. Please update your code to pass it using `facet_kws`.\n",
      "  warnings.warn(msg, UserWarning)\n",
      "/Users/Stefano Compagnone/anaconda3/lib/python3.11/site-packages/seaborn/axisgrid.py:118: UserWarning: The figure layout has changed to tight\n",
      "  self._figure.tight_layout(*args, **kwargs)\n",
      "/var/folders/tr/1q9q_z3j309g8478try7n2fr0000gn/T/ipykernel_67096/2152825709.py:29: UserWarning: The figure layout has changed to tight\n",
      "  plt.tight_layout()\n"
     ]
    },
    {
     "data": {
      "image/png": "[encoded data removed]",
      "text/plain": [
       "<Figure size 1000x500 with 1 Axes>"
      ]
     },
     "metadata": {},
     "output_type": "display_data"
    }
   ],
   "source": [
    "# instantiating a scatter plot for reviews and avg_star\n",
    "sns.lmplot(x          = \"reviews\",    # x-axis feature\n",
    "           y          = \"avg_stars\",  # y-axis feature\n",
    "           hue        = None,         # categorical data for subsets\n",
    "           legend     = True,         # including legend\n",
    "           legend_out = False,        # formats legend if hue != None\n",
    "           scatter    = True,         # renders a scatter plot\n",
    "           fit_reg    = True,         # renders a regression line\n",
    "           aspect     = 2,            # aspect ratio for plot\n",
    "           data       = df)           # DataFrame where features exist\n",
    "\n",
    "# looping over the y-range to save time\n",
    "value = 2.0\n",
    "\n",
    "while value <= 5:\n",
    "    # making a horizontal line\n",
    "    plt.axhline(y = value, color= \"black\", linestyle=\":\")\n",
    "    \n",
    "    # increasing value in increments\n",
    "    value += 0.5\n",
    "\n",
    "\n",
    "# adjusting labels and plotting the visualization\n",
    "plt.title(label    = \"The Relation between Number of Reviews & Average Ratings\")\n",
    "plt.xlabel(xlabel  = \"Reviews\")\n",
    "plt.ylabel(ylabel  = \"Average Rating per Vendor\")\n",
    "plt.xlim(1, 1000)  # changing the x-range for better viewability\n",
    "plt.ylim(0.9, 5.1) # changing the y-range for better viewability\n",
    "plt.tight_layout()\n",
    "plt.show()"
   ]
  },
  {
   "cell_type": "markdown",
   "id": "32616e93",
   "metadata": {},
   "source": [
    "In fact, this is evident in the regression line. However, it is also clear that any observations deviate strongly from the regression line, which means that the number of ratings has only a marginal explanatory influence on the star rating.\n",
    "\n",
    "In conclusion, a feature other than price needs to be analyzed to understand customer satisfaction."
   ]
  },
  {
   "cell_type": "markdown",
   "id": "765732f4",
   "metadata": {},
   "source": [
    "<h2> Bibliography </h2>\n",
    "    \n",
    "Bigne, E., Ruiz, C., Perez-Cabañero, C., & Cuenca, A. (2023). Are customer star ratings and sentiments aligned? A deep learning study of the customer service experience in tourism destinations. Service Business, 17(1), 281–314. https://doi.org/10.1007/s11628-023-00524-0\n",
    "\n",
    "Chen, T., Samaranayake, P., Cen, X., Qi, M., & Lan, Y. (2022). The impact of online reviews on consumers’ purchasing decisions: Evidence from an eye-tracking study. Frontiers in Psychology, 13, 865702. https://doi.org/10.3389/fpsyg.2022.865702\n",
    "\n",
    "Parducci, A. (1965). Category judgment: A range-frequency model. Psychological Review, 72(6), 407–418. https://doi.org/10.1037/h0022602\n",
    "\n",
    "Womply. (n.d.). Womply helps small businesses thrive in a digital world. https://www.womply.com/impact-of-online-reviews-on-small-business-revenue/#impactofreviews-section10--"
   ]
  }
 ],
 "metadata": {
  "kernelspec": {
   "display_name": "Python 3 (ipykernel)",
   "language": "python",
   "name": "python3"
  },
  "language_info": {
   "codemirror_mode": {
    "name": "ipython",
    "version": 3
   },
   "file_extension": ".py",
   "mimetype": "text/x-python",
   "name": "python",
   "nbconvert_exporter": "python",
   "pygments_lexer": "ipython3",
   "version": "3.11.5"
  },
  "toc": {
   "base_numbering": 1,
   "nav_menu": {},
   "number_sections": true,
   "sideBar": true,
   "skip_h1_title": false,
   "title_cell": "Table of Contents",
   "title_sidebar": "Contents",
   "toc_cell": false,
   "toc_position": {},
   "toc_section_display": true,
   "toc_window_display": false
  },
  "varInspector": {
   "cols": {
    "lenName": 16,
    "lenType": 16,
    "lenVar": 40
   },
   "kernels_config": {
    "python": {
     "delete_cmd_postfix": "",
     "delete_cmd_prefix": "del ",
     "library": "var_list.py",
     "varRefreshCmd": "print(var_dic_list())"
    },
    "r": {
     "delete_cmd_postfix": ") ",
     "delete_cmd_prefix": "rm(",
     "library": "var_list.r",
     "varRefreshCmd": "cat(var_dic_list()) "
    }
   },
   "types_to_exclude": [
    "module",
    "function",
    "builtin_function_or_method",
    "instance",
    "_Feature"
   ],
   "window_display": false
  }
 },
 "nbformat": 4,
 "nbformat_minor": 5
}
